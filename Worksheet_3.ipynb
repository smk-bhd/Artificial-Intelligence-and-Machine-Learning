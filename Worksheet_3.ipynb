{
  "nbformat": 4,
  "nbformat_minor": 0,
  "metadata": {
    "colab": {
      "provenance": []
    },
    "kernelspec": {
      "name": "python3",
      "display_name": "Python 3"
    },
    "language_info": {
      "name": "python"
    }
  },
  "cells": [
    {
      "cell_type": "markdown",
      "source": [
        "# Implementation of MCP Neuron for AND and OR Function."
      ],
      "metadata": {
        "id": "IY-_Zy_b71lD"
      }
    },
    {
      "cell_type": "code",
      "source": [
        "def MCP_Neurons_AND(X1, X2, T):\n",
        "  \"\"\"\n",
        "  This functions implements basic AND operations with MCP Neuron for two inputs.\n",
        "  Arguments:\n",
        "  Inputs:\n",
        "  X1 (1 nd array): An array of binary values.\n",
        "  X2 (1 nd array): An array of binary values.\n",
        "  Output:\n",
        "  state_neuron(1D-list): An state of neuron 1 0r 0 for the particular inputs.\n",
        "  \"\"\"\n",
        "  assert len(X1) == len(X2)\n",
        "  state_neuron = []\n",
        "  for ele1, ele2 in zip(X1, X2):\n",
        "    sum = ele1 + ele2\n",
        "    if sum >= T:\n",
        "      state_neuron.append(1)\n",
        "    else:\n",
        "      state_neuron.append(0)\n",
        "\n",
        "\n",
        "  return state_neuron"
      ],
      "metadata": {
        "id": "Fu-YDOe_8GJi"
      },
      "execution_count": 5,
      "outputs": []
    },
    {
      "cell_type": "code",
      "source": [
        "# Example usage for MCP_Neurons_AND function\n",
        "X1 = [0, 0, 1, 1]\n",
        "X2 = [0, 1, 0, 1]\n",
        "T = 2  # Threshold value\n",
        "\n",
        "# Call the MCP_Neurons_AND function\n",
        "result = MCP_Neurons_AND(X1, X2, T)\n",
        "\n",
        "# Print the result\n",
        "print(f\"Output of AND gate for inputs {X1} and {X2} with threshold {T}: {result}\")\n"
      ],
      "metadata": {
        "colab": {
          "base_uri": "https://localhost:8080/"
        },
        "id": "e2-lKfat8ocN",
        "outputId": "67d69f98-98bf-4545-9798-bfc4a9574602"
      },
      "execution_count": 6,
      "outputs": [
        {
          "output_type": "stream",
          "name": "stdout",
          "text": [
            "Output of AND gate for inputs [0, 0, 1, 1] and [0, 1, 0, 1] with threshold 2: [0, 0, 0, 1]\n"
          ]
        }
      ]
    },
    {
      "cell_type": "code",
      "source": [
        "def MCP_Neurons_OR(X1, X2, T):\n",
        "    \"\"\"\n",
        "    This function implements basic OR operations with MCP Neuron for two inputs.\n",
        "    Arguments:\n",
        "    Inputs:\n",
        "    X1 (1D array): An array of binary values.\n",
        "    X2 (1D array): An array of binary values.\n",
        "    Output:\n",
        "    state_neuron (1D list): The state of the neuron (1 or 0) for the particular inputs.\n",
        "    \"\"\"\n",
        "    assert len(X1) == len(X2)\n",
        "\n",
        "    for ele1, ele2 in zip(X1, X2):\n",
        "        sum = ele1 + ele2\n",
        "        state_neuron = []\n",
        "        if sum >= T:\n",
        "            state_neuron.append(1)\n",
        "        else:\n",
        "            state_neuron.append(0)\n",
        "\n",
        "    return state_neuron\n"
      ],
      "metadata": {
        "id": "7xaMXlLT9FHC"
      },
      "execution_count": 7,
      "outputs": []
    },
    {
      "cell_type": "code",
      "source": [
        "# Example usage for MCP_Neurons_OR function\n",
        "X1 = [0, 0, 1, 1]\n",
        "X2 = [0, 1, 0, 1]\n",
        "T = 1  # Threshold value for OR gate\n",
        "\n",
        "# Call the MCP_Neurons_OR function\n",
        "result_or = MCP_Neurons_OR(X1, X2, T)\n",
        "\n",
        "# Print the result\n",
        "print(f\"Output of OR gate for inputs {X1} and {X2} with threshold {T}: {result_or}\")\n"
      ],
      "metadata": {
        "colab": {
          "base_uri": "https://localhost:8080/"
        },
        "id": "6H-YOy268_Jo",
        "outputId": "650979c9-7a29-4422-e5f5-fa83c1316bc3"
      },
      "execution_count": 8,
      "outputs": [
        {
          "output_type": "stream",
          "name": "stdout",
          "text": [
            "Output of OR gate for inputs [0, 0, 1, 1] and [0, 1, 0, 1] with threshold 1: [1]\n"
          ]
        }
      ]
    },
    {
      "cell_type": "markdown",
      "source": [
        "##Answer the following Questions:\n",
        "\n",
        "\n",
        "\n",
        "1.   List out all the limitations of MCP Neurons.\n",
        "     \n",
        "     The limitations of MCP neurons are:\n",
        "\n",
        "\n",
        "*   They produce only binary outputs limiting their ability to model real world scenarios that require continuous or probabilistic output.\n",
        "*   They can only solve problems that are linearly separable but cannot solve problems like XOR, which requires non-linear separation.\n",
        "\n",
        "*   They have no internal memory or time-dependent behavior.\n",
        "*   There is no  learning rule in MCP neurons to adjust weights based on errors or feedback.\n",
        "\n",
        "\n",
        "\n",
        "\n",
        "\n",
        "\n",
        "\n"
      ],
      "metadata": {
        "id": "J3nBHBF7eHX9"
      }
    },
    {
      "cell_type": "markdown",
      "source": [
        "2. Think if you can develop a logic to solve for XOR function using MCP Neuron.\n",
        "{Can you devise a if else rules.}"
      ],
      "metadata": {
        "id": "JZ9DCOPxiTQM"
      }
    },
    {
      "cell_type": "markdown",
      "source": [
        "      Logical Expression of XOR\n",
        "\n",
        "        XOR = (A.B')+(A'.B)"
      ],
      "metadata": {
        "id": "5bgQiE3SjqPn"
      }
    },
    {
      "cell_type": "markdown",
      "source": [
        "![image.png](data:image/png;base64,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)"
      ],
      "metadata": {
        "id": "rOHCxyvukbTE"
      }
    },
    {
      "cell_type": "markdown",
      "source": [
        "          def XOR(A,B):\n",
        "              if A==B:\n",
        "                  return 0\n",
        "              else:\n",
        "                  return 1"
      ],
      "metadata": {
        "id": "G-xF3IjujCiB"
      }
    },
    {
      "cell_type": "markdown",
      "source": [
        "# Implementation for 0 Vs. 1 Classification."
      ],
      "metadata": {
        "id": "Apa9bfLIFJHe"
      }
    },
    {
      "cell_type": "markdown",
      "source": [
        "## Step 1: Load the Dataset"
      ],
      "metadata": {
        "id": "iom83mGLFP_1"
      }
    },
    {
      "cell_type": "code",
      "source": [
        "from google.colab import drive\n",
        "drive.mount('/content/drive')"
      ],
      "metadata": {
        "colab": {
          "base_uri": "https://localhost:8080/"
        },
        "id": "1VMlAtuUSSoc",
        "outputId": "6672f2cb-ee86-44d9-d0c2-30e6e275dd3a"
      },
      "execution_count": 9,
      "outputs": [
        {
          "output_type": "stream",
          "name": "stdout",
          "text": [
            "Mounted at /content/drive\n"
          ]
        }
      ]
    },
    {
      "cell_type": "code",
      "source": [
        "import pandas as pd\n",
        "import numpy as np\n",
        "import matplotlib.pyplot as plt\n",
        "\n",
        "\n",
        "# Load the dataset\n",
        "df_0_1 = pd.read_csv(\"/content/drive/MyDrive/AI and ML/mnist_0_and_1.csv\")\n",
        "\n",
        "# Extract features and labels\n",
        "X = df_0_1.drop(columns=[\"label\"]).values  # 784 pixels\n",
        "y = df_0_1[\"label\"].values  # Labels (0 or 1)\n",
        "\n",
        "# Check the shape of the features and labels\n",
        "print(\"Feature matrix shape:\", X.shape)\n",
        "print(\"Label vector shape:\", y.shape)\n"
      ],
      "metadata": {
        "colab": {
          "base_uri": "https://localhost:8080/"
        },
        "id": "7rkW58ct9IYq",
        "outputId": "90fea1c8-6717-4b95-ae04-de91acf8f700"
      },
      "execution_count": 10,
      "outputs": [
        {
          "output_type": "stream",
          "name": "stdout",
          "text": [
            "Feature matrix shape: (12665, 784)\n",
            "Label vector shape: (12665,)\n"
          ]
        }
      ]
    },
    {
      "cell_type": "markdown",
      "source": [
        "\n",
        "\n",
        "1.   What does the shape of X represent?\n",
        "\n",
        "     The shape of X represent feature matrix.\n",
        "\n",
        "2.   What does the shape of Y represent?\n",
        "\n",
        "     The shape of Y represent label vector.\n",
        "\n"
      ],
      "metadata": {
        "id": "aBr6ClPqlsIx"
      }
    },
    {
      "cell_type": "markdown",
      "source": [
        "### Viewing the Dataset."
      ],
      "metadata": {
        "id": "jlq0EY2jHheD"
      }
    },
    {
      "cell_type": "code",
      "source": [
        "# Separate images for label 0 and label 1\n",
        "images_0 = X[y == 0]  # Get all images with label 0\n",
        "images_1 = X[y == 1]  # Get all images with label 1\n",
        "\n",
        "fig, axes = plt.subplots(2, 5, figsize=(10, 5))\n",
        "\n",
        "# Check if the arrays have the required amount of data\n",
        "if len(images_0) < 5 or len(images_1) < 5:\n",
        "    print(\"Error: Not enough images in images_0 or images_1 to plot 5 images.\")\n",
        "else:\n",
        "    for i in range(5):\n",
        "        # Plot digit 0\n",
        "        axes[0, i].imshow(images_0[i].reshape(28, 28), cmap=\"gray\")\n",
        "        axes[0, i].set_title(\"Label: 0\")\n",
        "        axes[0, i].axis(\"off\")\n",
        "        # Plot digit 1\n",
        "        axes[1, i].imshow(images_1[i].reshape(28, 28), cmap=\"gray\")\n",
        "        axes[1, i].set_title(\"Label: 1\")\n",
        "        axes[1, i].axis(\"off\")\n",
        "    plt.suptitle(\"First 5 Images of 0 and 1 from MNIST Subset\")\n",
        "    plt.show()"
      ],
      "metadata": {
        "colab": {
          "base_uri": "https://localhost:8080/",
          "height": 451
        },
        "id": "XKY2qjhCHAZ7",
        "outputId": "86e512b8-6744-4704-f7f5-2acc758bd9e3"
      },
      "execution_count": 11,
      "outputs": [
        {
          "output_type": "display_data",
          "data": {
            "text/plain": [
              "<Figure size 1000x500 with 10 Axes>"
            ],
            "image/png": "[encoded data removed]"
          },
          "metadata": {}
        }
      ]
    },
    {
      "cell_type": "markdown",
      "source": [
        "## Step - 2 - Initializing the Weights:"
      ],
      "metadata": {
        "id": "qyM34tbHIqGi"
      }
    },
    {
      "cell_type": "code",
      "source": [
        "# Initialize weights and bias\n",
        "weights = np.zeros(X.shape[1])  # 784 weights (one for each pixel)\n",
        "bias = 0\n",
        "learning_rate = 0.1\n",
        "epochs = 100"
      ],
      "metadata": {
        "id": "SMsXaZ38HfBI"
      },
      "execution_count": 12,
      "outputs": []
    },
    {
      "cell_type": "markdown",
      "source": [
        "**1. What does the weights array represent in this context?**\n",
        "\n",
        "The weight repesent coefficients assigned to each pixel in the input data.  Since the input data is a set of images each weight corresponds to a pixel in the image. The weights determine how much each pixel contributes to the model's decision-making process. In essence, they help the model learn which pixels are most relevant for distinguishing between different classes.\n",
        "\n",
        "**2. Why are we initializing the weights to zero? What effect could this\n",
        "have on the training process?**\n",
        "\n",
        "We are initializing the weights to zero because it is a simple approach.\n",
        "The effect this would have on the training process are:\n",
        "\n",
        "\n",
        "\n",
        "*   The model might take longer to converge or might converge to a suboptimal solution.\n",
        "*   The risk of getting stuck in local minima increases.\n",
        "\n"
      ],
      "metadata": {
        "id": "i2AOrC9ist98"
      }
    },
    {
      "cell_type": "markdown",
      "source": [
        "## Step - 3 - Make a Decision function:"
      ],
      "metadata": {
        "id": "EvraDxaeRVeo"
      }
    },
    {
      "cell_type": "code",
      "source": [
        "import numpy as np\n",
        "\n",
        "def decision_function(X, weights, bias):\n",
        "    \"\"\"\n",
        "    Compute the predicted labels for the input data.\n",
        "\n",
        "    Parameters:\n",
        "    - X: Features (input data) as a numpy array of shape (n_samples, n_features)\n",
        "    - weights: Updated weights after training\n",
        "    - bias: Updated bias after training\n",
        "\n",
        "    Returns:\n",
        "    - y_pred_all: The predicted labels for the input data\n",
        "    \"\"\"\n",
        "    predictions = np.dot(X, weights) + bias\n",
        "    y_pred_all = np.where(predictions >= 0, 1, 0)\n",
        "    return y_pred_all"
      ],
      "metadata": {
        "id": "6uVj75txLWQi"
      },
      "execution_count": 13,
      "outputs": []
    },
    {
      "cell_type": "markdown",
      "source": [
        "## Step - 3 - Implement the Perceptron Learning Algorithm"
      ],
      "metadata": {
        "id": "AVZNGyRdI4I4"
      }
    },
    {
      "cell_type": "code",
      "source": [
        "def train_perceptron(X, y, weights, bias, learning_rate=0.1, epochs=100):\n",
        "    \"\"\"\n",
        "    Train the perceptron using the Perceptron Learning Algorithm.\n",
        "\n",
        "    Parameters:\n",
        "    - X: Features (input data) as a numpy array of shape (n_samples, n_features)\n",
        "    - y: Labels (true output) as a numpy array of shape (n_samples,)\n",
        "    - weights: Initial weights as a numpy array of shape (n_features,)\n",
        "    - bias: Initial bias value (scalar)\n",
        "    - learning_rate: Learning rate for weight updates (default is 0.1)\n",
        "    - epochs: Number of iterations to train the model (default is 100)\n",
        "\n",
        "    Returns:\n",
        "    - weights: Updated weights after training\n",
        "    - bias: Updated bias after training\n",
        "    - accuracy: Total correct prediction.\n",
        "    \"\"\"\n",
        "    # Step 3: Perceptron Learning Algorithm\n",
        "    for epoch in range(epochs):\n",
        "      correct_predictions = 0\n",
        "      for i in range(len(X)):\n",
        "         predictions = decision_function(X[i], weights, bias)\n",
        "         error = y[i] - predictions\n",
        "\n",
        "         weights += learning_rate * error * X[i]\n",
        "         bias += learning_rate * error\n",
        "\n",
        "         if error == 0:\n",
        "          correct_predictions += 1\n",
        "          accuracy = correct_predictions / len(X)\n",
        "\n",
        "      if (epoch+1)% 10 ==0:\n",
        "        print(f\"Epoch {epoch+1},Accuracy = {accuracy:.4f}\")\n",
        "\n",
        "    return weights, bias, accuracy"
      ],
      "metadata": {
        "id": "Dg1ocrycJWpA"
      },
      "execution_count": 14,
      "outputs": []
    },
    {
      "cell_type": "markdown",
      "source": [
        "**What is the purpose of the output = np.dot(X[i], weights) + bias line?**\n",
        "\n",
        "\n",
        "The purpose of output = np.dot(X[i], weights) + bias is to represent linear combination of inputs and weights which is then passed through the activation function to make a prediction.\n",
        "\n",
        "**What happens when the prediction is wrong? How are the weights and\n",
        "bias updated?**\n",
        "\n",
        "When the prediction is wrong, the error is calculated as the difference between the actual label and the predicted label.\n",
        "\n",
        "The weights and bias are updated using this formula:\n",
        "\n",
        "weights += learning_rate * error * X[i]\n",
        "\n",
        "bias += learning_rate * error\n",
        "\n",
        "\n",
        "**Why is the final accuracy important, and what do you expect it to be?**\n",
        "\n",
        "Final accuracy is important because it tells you how well the perceptron model has learned from the data.\n",
        "\n",
        "I expect it to be high accuracy since it's a linearly separable problem."
      ],
      "metadata": {
        "id": "IFxo-LYImnEA"
      }
    },
    {
      "cell_type": "markdown",
      "source": [
        "## Training the Perceptron"
      ],
      "metadata": {
        "id": "Va6AGI6iMAG9"
      }
    },
    {
      "cell_type": "code",
      "source": [
        "# After training the model with the perceptron_learning_algorithm\n",
        "weights, bias, accuracy = train_perceptron(X, y, weights, bias)\n",
        "\n",
        "# Evaluate the model using the new function\n",
        "print(\"The Final Accuracy is: \", accuracy)"
      ],
      "metadata": {
        "colab": {
          "base_uri": "https://localhost:8080/"
        },
        "id": "cn8XBYuZLswI",
        "outputId": "05a34889-b763-428e-874a-9d757a8ae0ab"
      },
      "execution_count": 15,
      "outputs": [
        {
          "output_type": "stream",
          "name": "stdout",
          "text": [
            "Epoch 10,Accuracy = 0.9992\n",
            "Epoch 20,Accuracy = 1.0000\n",
            "Epoch 30,Accuracy = 1.0000\n",
            "Epoch 40,Accuracy = 1.0000\n",
            "Epoch 50,Accuracy = 1.0000\n",
            "Epoch 60,Accuracy = 1.0000\n",
            "Epoch 70,Accuracy = 1.0000\n",
            "Epoch 80,Accuracy = 1.0000\n",
            "Epoch 90,Accuracy = 1.0000\n",
            "Epoch 100,Accuracy = 1.0000\n",
            "The Final Accuracy is:  1.0\n"
          ]
        }
      ]
    },
    {
      "cell_type": "markdown",
      "source": [
        "## Step 5: Visualize Misclassified Images"
      ],
      "metadata": {
        "id": "-SLq1jbSMKPm"
      }
    },
    {
      "cell_type": "code",
      "source": [
        "# Get predictions for all data points\n",
        "predictions = np.dot(X, weights) + bias\n",
        "y_pred = np.where(predictions >= 0, 1, 0)\n",
        "\n",
        "# Calculate final accuracy\n",
        "final_accuracy = np.mean(y_pred == y)\n",
        "print(f\"Final Accuracy: {final_accuracy:.4f}\")\n",
        "\n",
        "# Step 5: Visualize Misclassified Images\n",
        "misclassified_idx = np.where(y_pred != y)[0]\n",
        "if len(misclassified_idx) > 0:\n",
        "    fig, axes = plt.subplots(2, 5, figsize=(10, 5))\n",
        "    for ax, idx in zip(axes.flat, misclassified_idx[:10]):  # Show 10 misclassified images\n",
        "        ax.imshow(X[idx].reshape(28, 28), cmap=\"gray\")\n",
        "        ax.set_title(f\"Pred: {y_pred[idx]}, True: {y[idx]}\")\n",
        "        ax.axis(\"off\")\n",
        "    plt.suptitle(\"Misclassified Images\")\n",
        "    plt.show()\n",
        "else:\n",
        "    print(\"All images were correctly classified!\")"
      ],
      "metadata": {
        "colab": {
          "base_uri": "https://localhost:8080/"
        },
        "id": "KAMz1RPGMN_A",
        "outputId": "418b9c70-0d0e-47bb-9cea-449598b51451"
      },
      "execution_count": 16,
      "outputs": [
        {
          "output_type": "stream",
          "name": "stdout",
          "text": [
            "Final Accuracy: 1.0000\n",
            "All images were correctly classified!\n"
          ]
        }
      ]
    },
    {
      "cell_type": "markdown",
      "source": [
        "**What does misclassified idx store, and how is it used in this code?**\n",
        "\n",
        "The misclassified idx keeps the track of the position in data where the model made a wrong prediction.\n",
        "\n",
        "It is used to show the first 10 images that were incorrectly classified.\n",
        "\n",
        "**How do you interpret the result if the output is ”All images were\n",
        "correctly classified!”?**\n",
        "\n",
        "It means that the model got every prediction correct."
      ],
      "metadata": {
        "id": "kDWET3P6qJXc"
      }
    },
    {
      "cell_type": "markdown",
      "source": [
        "## Implementation for 3 Vs 5\n",
        "\n",
        "##  Classification"
      ],
      "metadata": {
        "id": "TEkT7s9oULD3"
      }
    },
    {
      "cell_type": "code",
      "source": [
        "import pandas as pd\n",
        "import numpy as np\n",
        "import matplotlib.pyplot as plt\n",
        "\n",
        "df_3_5 = pd.read_csv(\"/content/drive/MyDrive/AI and ML/mnist_3_and_5.csv\")\n",
        "\n",
        "X = df_3_5.drop(columns=[\"label\"]).values\n",
        "y = df_3_5[\"label\"].values\n",
        "\n",
        "print(\"Feature matrix shape:\", X.shape)\n",
        "print(\"Label vector shape:\", y.shape)"
      ],
      "metadata": {
        "id": "CeEDo-9gNknE",
        "colab": {
          "base_uri": "https://localhost:8080/"
        },
        "outputId": "013c43e3-c48c-43f8-9561-4c4e8fe25057"
      },
      "execution_count": 17,
      "outputs": [
        {
          "output_type": "stream",
          "name": "stdout",
          "text": [
            "Feature matrix shape: (2741, 784)\n",
            "Label vector shape: (2741,)\n"
          ]
        }
      ]
    },
    {
      "cell_type": "markdown",
      "source": [
        "##Viewing Dataset"
      ],
      "metadata": {
        "id": "Du0okS7pVOZ8"
      }
    },
    {
      "cell_type": "code",
      "source": [
        "image_3 = X[y==3]\n",
        "image_5 = X[y==5]\n",
        "\n",
        "fig, axes = plt.subplots(2, 5, figsize=(10, 5))\n",
        "\n",
        "if len(image_3) < 5 or len(image_5) < 5:\n",
        "    print(\"Error: Not enough images in image_3 or image_5 to plot 5 images.\")\n",
        "else:\n",
        "    for i in range(5):\n",
        "\n",
        "        axes[0, i].imshow(image_3[i].reshape(28, 28), cmap=\"gray\")\n",
        "        axes[0, i].set_title(\"Label: 3\")\n",
        "        axes[0, i].axis(\"off\")\n",
        "\n",
        "        axes[1, i].imshow(image_5[i].reshape(28, 28), cmap=\"gray\")\n",
        "        axes[1, i].set_title(\"Label: 5\")\n",
        "        axes[1, i].axis(\"off\")\n",
        "\n",
        "    plt.suptitle(\"First 5 Images of 3 and 5 from MNIST Subset\")\n",
        "    plt.show()"
      ],
      "metadata": {
        "colab": {
          "base_uri": "https://localhost:8080/",
          "height": 451
        },
        "id": "rmhuyVYbVIZ2",
        "outputId": "bf0eef39-f553-48b7-b4e0-486f0c51ecaf"
      },
      "execution_count": 18,
      "outputs": [
        {
          "output_type": "display_data",
          "data": {
            "text/plain": [
              "<Figure size 1000x500 with 10 Axes>"
            ],
            "image/png": "[encoded data removed]"
          },
          "metadata": {}
        }
      ]
    },
    {
      "cell_type": "markdown",
      "source": [
        "##Initializing Weights"
      ],
      "metadata": {
        "id": "8eGMrhciWSC3"
      }
    },
    {
      "cell_type": "code",
      "source": [
        "weights = np.zeros(X.shape[1])\n",
        "bias = 0\n",
        "learning_rate = 0.1\n",
        "epochs = 100"
      ],
      "metadata": {
        "id": "LNiJEp9SVGlM"
      },
      "execution_count": 19,
      "outputs": []
    },
    {
      "cell_type": "markdown",
      "source": [
        "##Decision Function"
      ],
      "metadata": {
        "id": "INLwNmk5WpLR"
      }
    },
    {
      "cell_type": "code",
      "source": [
        "import numpy as np\n",
        "\n",
        "def decision_function(X, weights, bias):\n",
        "    \"\"\"\n",
        "    Compute the predicted labels for the input data.\n",
        "\n",
        "    Parameters:\n",
        "    - X: Features (input data) as a numpy array of shape (n_samples, n_features)\n",
        "    - weights: Updated weights after training\n",
        "    - bias: Updated bias after training\n",
        "\n",
        "    Returns:\n",
        "    - y_pred_all: The predicted labels for the input data\n",
        "    \"\"\"\n",
        "\n",
        "    predictions = np.dot(X, weights) + bias\n",
        "    y_pred_all = np.where(predictions >= 0,5,3 )\n",
        "\n",
        "    return y_pred_all"
      ],
      "metadata": {
        "id": "lSHtTAKhWosy"
      },
      "execution_count": 26,
      "outputs": []
    },
    {
      "cell_type": "markdown",
      "source": [
        "##Implement perceptron\n",
        "##learning Algorithm\n",
        "\n"
      ],
      "metadata": {
        "id": "WJBKTsmvW_GB"
      }
    },
    {
      "cell_type": "code",
      "source": [
        "def train_perceptron(X, y, weights, bias, learning_rate=0.1, epochs=100):\n",
        "    \"\"\"\n",
        "    Train the perceptron using the Perceptron Learning Algorithm.\n",
        "\n",
        "    Parameters:\n",
        "    - X: Features (input data) as a numpy array of shape (n_samples, n_features)\n",
        "    - y: Labels (true output) as a numpy array of shape (n_samples,)\n",
        "    - weights: Initial weights as a numpy array of shape (n_features,)\n",
        "    - bias: Initial bias value (scalar)\n",
        "    - learning_rate: Learning rate for weight updates (default is 0.1)\n",
        "    - epochs: Number of iterations to train the model (default is 100)\n",
        "\n",
        "    Returns:\n",
        "    - weights: Updated weights after training\n",
        "    - bias: Updated bias after training\n",
        "    - accuracy: Total correct prediction.\n",
        "    \"\"\"\n",
        "    # Step 3: Perceptron Learning Algorithm\n",
        "    # Your Code here#\n",
        "    for epoch in range(epochs):\n",
        "      correct_predictions = 0\n",
        "      for i in range(len(X)):\n",
        "        predictions = decision_function(X[i], weights, bias)\n",
        "        error = y[i] - predictions\n",
        "\n",
        "        weights += learning_rate * error * X[i]\n",
        "        bias += learning_rate * error\n",
        "\n",
        "        if error == 0:\n",
        "          correct_predictions += 1\n",
        "      accuracy = correct_predictions / len(X)\n",
        "\n",
        "      if (epoch+1)% 10 ==0:\n",
        "        print(f\"Epoch {epoch+1},Accuracy = {accuracy:.4f}\")\n",
        "    return weights, bias, accuracy"
      ],
      "metadata": {
        "id": "5TUz7SKYWmkI"
      },
      "execution_count": 32,
      "outputs": []
    },
    {
      "cell_type": "markdown",
      "source": [
        "##Training Perceptron"
      ],
      "metadata": {
        "id": "iMLKzNOTXePK"
      }
    },
    {
      "cell_type": "code",
      "source": [
        "weights, bias, accuracy = train_perceptron(X, y, weights, bias)\n",
        "\n",
        "print(\"The Final Accuracy is: \", accuracy)"
      ],
      "metadata": {
        "colab": {
          "base_uri": "https://localhost:8080/"
        },
        "id": "_2EoK8zDXcaB",
        "outputId": "81d6a2a5-f209-4abd-ce08-9241d0d068d3"
      },
      "execution_count": 33,
      "outputs": [
        {
          "output_type": "stream",
          "name": "stdout",
          "text": [
            "Epoch 10,Accuracy = 0.4586\n",
            "Epoch 20,Accuracy = 0.4586\n",
            "Epoch 30,Accuracy = 0.4586\n",
            "Epoch 40,Accuracy = 0.4586\n",
            "Epoch 50,Accuracy = 0.4622\n",
            "Epoch 60,Accuracy = 0.5100\n",
            "Epoch 70,Accuracy = 0.6279\n",
            "Epoch 80,Accuracy = 0.7246\n",
            "Epoch 90,Accuracy = 0.7895\n",
            "Epoch 100,Accuracy = 0.8249\n",
            "The Final Accuracy is:  0.8248814301349873\n"
          ]
        }
      ]
    },
    {
      "cell_type": "markdown",
      "source": [
        "## Visualize Misclassified Images"
      ],
      "metadata": {
        "id": "8DgvHleBZ-TW"
      }
    },
    {
      "cell_type": "code",
      "source": [
        "# Get predictions for all data points\n",
        "predictions = np.dot(X, weights) + bias\n",
        "y_pred = np.where(predictions >= 0, 5, 3)\n",
        "\n",
        "# Calculate final accuracy\n",
        "final_accuracy = np.mean(y_pred == y)\n",
        "print(f\"Final Accuracy: {final_accuracy:.4f}\")\n",
        "\n",
        "# Step 5: Visualize Misclassified Images\n",
        "misclassified_idx = np.where(y_pred != y)[0]\n",
        "if len(misclassified_idx) > 0:\n",
        "    fig, axes = plt.subplots(2, 5, figsize=(10, 5))\n",
        "    for ax, idx in zip(axes.flat, misclassified_idx[:10]):  # Show 10 misclassified images\n",
        "        ax.imshow(X[idx].reshape(28, 28), cmap=\"gray\")\n",
        "        ax.set_title(f\"Pred: {y_pred[idx]}, True: {y[idx]}\")\n",
        "        ax.axis(\"off\")\n",
        "    plt.suptitle(\"Misclassified Images\")\n",
        "    plt.show()\n",
        "else:\n",
        "    print(\"All images were correctly classified!\")"
      ],
      "metadata": {
        "colab": {
          "base_uri": "https://localhost:8080/",
          "height": 468
        },
        "id": "NQaW0UAFXmJr",
        "outputId": "abed7274-86b3-44db-e571-1d720d5e0c69"
      },
      "execution_count": 34,
      "outputs": [
        {
          "output_type": "stream",
          "name": "stdout",
          "text": [
            "Final Accuracy: 0.8267\n"
          ]
        },
        {
          "output_type": "display_data",
          "data": {
            "text/plain": [
              "<Figure size 1000x500 with 10 Axes>"
            ],
            "image/png": "[encoded data removed]"
          },
          "metadata": {}
        }
      ]
    },
    {
      "cell_type": "markdown",
      "source": [
        "**Conclusion**\n",
        "\n",
        "The model shows a final accuracy of 82.67%, meaning the model correctly classified around 83% of the test images.It also shows misclassified images where the predicted label differs from true label.Many images of the digit 3 were incorrectly classified as 5 and some images of 5 were misclassified as 3.\n"
      ],
      "metadata": {
        "id": "ca4moKK2wPpf"
      }
    },
    {
      "cell_type": "code",
      "source": [],
      "metadata": {
        "id": "tlA3G8bdaMT4"
      },
      "execution_count": null,
      "outputs": []
    }
  ]
}